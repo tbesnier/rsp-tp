{
 "cells": [
  {
   "cell_type": "markdown",
   "metadata": {},
   "source": [
    "# Représentation des signaux & problèmes inverses - G1-G2\n",
    "---\n",
    "## TP 0 : Introduction à la transformée de Fourier 2D\n",
    "---"
   ]
  },
  {
   "cell_type": "markdown",
   "metadata": {},
   "source": [
    "Ce TP aborde l'utilisation de la transformée de Fourier (TF) 2D à l'aide du langage de programmation Python.\n",
    "\n",
    "## Avant de commencer...\n",
    "Lisez attentivement les instructions ci-dessous avant de commencer ce TP.\n",
    "\n",
    "* Copiez l'archive `.zip` dans un dossier local (Computer -> Documents\\TDS\\) ou sur votre espace serveur.\n",
    "* Extraire le contenu de l'archive `.zip`.\n",
    "* Renommez le dossier `TP0_Name1_Name2`.\n",
    "* Copiez le fichier notebook fourni, et renommez-le comme sui: `TP0_Name1_Name2.ipynb`.\n",
    "\n",
    "## Sommaire <a name=\"content\"></a>\n",
    "\n",
    "* [Question 1](#question1)\n",
    "* [Question 2](#question2)\n",
    "* [Question 3](#question3)\n",
    "* [Exercice 1](#exo1)\n",
    "* [Exercice 2](#exo2)\n",
    "* [Question subsidiaire](#supplement)\n",
    "\n",
    "---\n",
    "## Analyse de Fourier d'une image"
   ]
  },
  {
   "cell_type": "markdown",
   "metadata": {},
   "source": [
    "### Configuration : (à faire avant de commencer)"
   ]
  },
  {
   "cell_type": "code",
   "execution_count": 1,
   "metadata": {},
   "outputs": [],
   "source": [
    "# make sure the notebook reloads the module each time we modify it\n",
    "%load_ext autoreload\n",
    "%autoreload 2\n",
    "\n",
    "# Uncomment the next line if you want to be able to zoom on plots (one of the options below)\n",
    "%matplotlib widget\n",
    "# %matplotlib inline"
   ]
  },
  {
   "cell_type": "code",
   "execution_count": 2,
   "metadata": {},
   "outputs": [],
   "source": [
    "import matplotlib.pyplot as plt\n",
    "import matplotlib as mpl\n",
    "import matplotlib.image as mpimg\n",
    "import numpy as np"
   ]
  },
  {
   "cell_type": "markdown",
   "metadata": {},
   "source": [
    "### Chargement de la première image"
   ]
  },
  {
   "cell_type": "code",
   "execution_count": 3,
   "metadata": {},
   "outputs": [
    {
     "data": {
      "application/vnd.jupyter.widget-view+json": {
       "model_id": "f2855ba52ed341079c376a79d224fd54",
       "version_major": 2,
       "version_minor": 0
      },
      "text/plain": [
       "Canvas(toolbar=Toolbar(toolitems=[('Home', 'Reset original view', 'home', 'home'), ('Back', 'Back to previous …"
      ]
     },
     "metadata": {},
     "output_type": "display_data"
    }
   ],
   "source": [
    "filename='img/chessboard.png'\n",
    "I=mpimg.imread(filename) \n",
    "\n",
    "plt.figure()\n",
    "plt.imshow(I, cmap='gray')\n",
    "plt.colorbar()\n",
    "plt.show()"
   ]
  },
  {
   "cell_type": "markdown",
   "metadata": {},
   "source": [
    "Affichage de la transformée de Fourier.\n",
    "\n",
    "**Remarque :** la fonction `fftshift` réordonne les coefficients de\n",
    "sorte que la fréquence (0, 0) se trouve au centre, soit ici à la position (256, 256). "
   ]
  },
  {
   "cell_type": "code",
   "execution_count": 5,
   "metadata": {},
   "outputs": [
    {
     "data": {
      "application/vnd.jupyter.widget-view+json": {
       "model_id": "9672885f4d1b453ba2e2ff7bdd3178d9",
       "version_major": 2,
       "version_minor": 0
      },
      "text/plain": [
       "Canvas(toolbar=Toolbar(toolitems=[('Home', 'Reset original view', 'home', 'home'), ('Back', 'Back to previous …"
      ]
     },
     "metadata": {},
     "output_type": "display_data"
    }
   ],
   "source": [
    "fft2_img= np.fft.fft2(I)\n",
    "fft2_img_shift = np.fft.fftshift(fft2_img)\n",
    "\n",
    "plt.figure()\n",
    "plt.imshow(np.abs(fft2_img), cmap = 'gray') #cmap = 'nipy_spectral'\n",
    "plt.title('Magnitude Spectrum without shift')\n",
    "plt.colorbar()\n",
    "plt.show()"
   ]
  },
  {
   "cell_type": "code",
   "execution_count": 6,
   "metadata": {},
   "outputs": [
    {
     "data": {
      "application/vnd.jupyter.widget-view+json": {
       "model_id": "76a6fb08968d4865ad431569c04eb8af",
       "version_major": 2,
       "version_minor": 0
      },
      "text/plain": [
       "Canvas(toolbar=Toolbar(toolitems=[('Home', 'Reset original view', 'home', 'home'), ('Back', 'Back to previous …"
      ]
     },
     "metadata": {},
     "output_type": "display_data"
    }
   ],
   "source": [
    "plt.figure()\n",
    "plt.imshow(np.abs(fft2_img_shift), cmap = 'gray') \n",
    "plt.title('Magnitude Spectrum with shift')\n",
    "plt.colorbar()\n",
    "plt.show()"
   ]
  },
  {
   "cell_type": "markdown",
   "metadata": {},
   "source": [
    "----\n",
    "### Question 1 <a name=\"question1\"></a> [(&#8593;)](#content)\n",
    "Que remarquez-vous quant à la repsésentation obtenue ci-dessus ? Cette représentation est-elle pertinente ? Comment l'améliorer ?\n",
    "\n",
    "Indication : vous pouvez éventuellement zommer sur le centre de la figure. Que voyez-vous apparaître ?"
   ]
  },
  {
   "cell_type": "markdown",
   "metadata": {},
   "source": [
    "-- *Vos commentaires*\n",
    "\n",
    "La majorité de l'image est noire, à l'exeception du centre de l'image (dans le cas d'un shift) qui contient quelques pixels plus claires. Sans shift, les pixels clairs sont aux 4 coins du spectrogramme\n",
    "Le pixel central (lorsqu'il y a un shift) est complètement blanc."
   ]
  },
  {
   "cell_type": "markdown",
   "metadata": {},
   "source": [
    "---\n",
    "*Pour améliorer le contraste, on passe en représentation logarithmique:* `norm=mpl.colors.LogNorm()`"
   ]
  },
  {
   "cell_type": "code",
   "execution_count": 8,
   "metadata": {},
   "outputs": [
    {
     "data": {
      "application/vnd.jupyter.widget-view+json": {
       "model_id": "2874c2f3a71243f5acb6ed35dc04b8b6",
       "version_major": 2,
       "version_minor": 0
      },
      "text/plain": [
       "Canvas(toolbar=Toolbar(toolitems=[('Home', 'Reset original view', 'home', 'home'), ('Back', 'Back to previous …"
      ]
     },
     "metadata": {},
     "output_type": "display_data"
    }
   ],
   "source": [
    "plt.figure(figsize=(10,6))\n",
    "plt.imshow(np.abs(fft2_img_shift), extent= [240, 280, 240, 280], cmap = 'gray', norm=mpl.colors.LogNorm()) #cmap = 'nipy_spectral'\n",
    "plt.title('Magnitude Spectrum with shift')\n",
    "plt.colorbar()\n",
    "plt.show()"
   ]
  },
  {
   "cell_type": "code",
   "execution_count": null,
   "metadata": {},
   "outputs": [],
   "source": []
  },
  {
   "cell_type": "markdown",
   "metadata": {},
   "source": [
    "----\n",
    "### Question 2 <a name=\"question2\"></a> [(&#8593;)](#content)\n",
    "2.1 Consultez la liste des images disponibles dans le dossier **img**.\n",
    "\n",
    "2.2 Observez les transformées de Fourier de plusieurs d'entre elles (s'il s'agit d'images couleurs, sélectionner par exemple le 1er canal : une image couleur est représentée en Python par une `array` 3D, 2 dimensions spatiales, 3 canaux de couleur). Que remarquez-vous ?"
   ]
  },
  {
   "cell_type": "markdown",
   "metadata": {},
   "source": [
    "-- *Vos commentaires*"
   ]
  },
  {
   "cell_type": "code",
   "execution_count": 9,
   "metadata": {
    "scrolled": false
   },
   "outputs": [
    {
     "data": {
      "application/vnd.jupyter.widget-view+json": {
       "model_id": "53b5ccdd0bb6453aa1ca59cdca9b06c2",
       "version_major": 2,
       "version_minor": 0
      },
      "text/plain": [
       "Canvas(toolbar=Toolbar(toolitems=[('Home', 'Reset original view', 'home', 'home'), ('Back', 'Back to previous …"
      ]
     },
     "metadata": {},
     "output_type": "display_data"
    },
    {
     "data": {
      "application/vnd.jupyter.widget-view+json": {
       "model_id": "927be91bc2834583beb6b794d58351ca",
       "version_major": 2,
       "version_minor": 0
      },
      "text/plain": [
       "Canvas(toolbar=Toolbar(toolitems=[('Home', 'Reset original view', 'home', 'home'), ('Back', 'Back to previous …"
      ]
     },
     "metadata": {},
     "output_type": "display_data"
    },
    {
     "name": "stderr",
     "output_type": "stream",
     "text": [
      "Clipping input data to the valid range for imshow with RGB data ([0..1] for floats or [0..255] for integers).\n",
      "Clipping input data to the valid range for imshow with RGB data ([0..1] for floats or [0..255] for integers).\n"
     ]
    }
   ],
   "source": [
    "# votre code (illustration des commentaires)\n",
    "\n",
    "filename='img/barb.png'\n",
    "I=mpimg.imread(filename) \n",
    "\n",
    "plt.figure()\n",
    "plt.imshow(I, cmap='gray')\n",
    "plt.colorbar()\n",
    "plt.show()\n",
    "\n",
    "fft2_img= np.fft.fft2(I)\n",
    "fft2_img_shift = np.fft.fftshift(fft2_img)\n",
    "\n",
    "fig, (ax1, ax2) = plt.subplots(1, 2)\n",
    "\n",
    "ax1.imshow(np.abs(fft2_img), cmap = 'gray') #cmap = 'nipy_spectral'\n",
    "ax1.set_title('Magnitude Spectrum without shift')\n",
    "ax1.grid(True)\n",
    "\n",
    "ax2.imshow(np.abs(fft2_img_shift), cmap = 'gray') \n",
    "ax2.set_title('Magnitude Spectrum with shift')\n",
    "ax2.grid(True)\n",
    "\n",
    "plt.subplots_adjust(bottom=0.4, right = 1)\n",
    "plt.show()"
   ]
  },
  {
   "cell_type": "markdown",
   "metadata": {},
   "source": [
    "----\n",
    "### Question 3 <a name=\"question3\"></a> [(&#8593;)](#content)\n",
    "3.1 Comparez la tranformée de Fourier des images I et `J = I - np.mean(img)` (J étant de moyenne nulle). \n",
    "\n",
    "3.2 Etudiez notamment ce qui se passe à la fréquence (0, 0)."
   ]
  },
  {
   "cell_type": "markdown",
   "metadata": {},
   "source": [
    "-- *Vos réponses*\n"
   ]
  },
  {
   "cell_type": "code",
   "execution_count": 10,
   "metadata": {},
   "outputs": [
    {
     "data": {
      "application/vnd.jupyter.widget-view+json": {
       "model_id": "7eb2aa9ad4464b36b33e7a60111a5b5a",
       "version_major": 2,
       "version_minor": 0
      },
      "text/plain": [
       "Canvas(toolbar=Toolbar(toolitems=[('Home', 'Reset original view', 'home', 'home'), ('Back', 'Back to previous …"
      ]
     },
     "metadata": {},
     "output_type": "display_data"
    }
   ],
   "source": [
    "filename='img/chessboard.png'\n",
    "I=mpimg.imread(filename) \n",
    "\n",
    "J = I - np.mean(I)\n",
    "K = np.concatenate((I, J), axis=1)\n",
    "\n",
    "plt.figure()\n",
    "plt.imshow(K, cmap='gray')\n",
    "plt.colorbar()\n",
    "plt.show()"
   ]
  },
  {
   "cell_type": "code",
   "execution_count": 11,
   "metadata": {},
   "outputs": [
    {
     "data": {
      "application/vnd.jupyter.widget-view+json": {
       "model_id": "43a73bc5c52c46b297e80d31ea8e1eeb",
       "version_major": 2,
       "version_minor": 0
      },
      "text/plain": [
       "Canvas(toolbar=Toolbar(toolitems=[('Home', 'Reset original view', 'home', 'home'), ('Back', 'Back to previous …"
      ]
     },
     "metadata": {},
     "output_type": "display_data"
    },
    {
     "data": {
      "application/vnd.jupyter.widget-view+json": {
       "model_id": "5cbecc48232a43b2ace4779308c5f5c1",
       "version_major": 2,
       "version_minor": 0
      },
      "text/plain": [
       "Canvas(toolbar=Toolbar(toolitems=[('Home', 'Reset original view', 'home', 'home'), ('Back', 'Back to previous …"
      ]
     },
     "metadata": {},
     "output_type": "display_data"
    }
   ],
   "source": [
    "fft2_img_J= np.fft.fft2(J)\n",
    "fft2_img_shift_J = np.fft.fftshift(fft2_img_J)\n",
    "\n",
    "fft2_img_I= np.fft.fft2(I)\n",
    "fft2_img_shift_I = np.fft.fftshift(fft2_img_I)\n",
    "\n",
    "plt.figure()\n",
    "plt.imshow(np.abs(fft2_img_shift_I), cmap = 'gray') \n",
    "plt.title('Magnitude Spectrum with shift for I')\n",
    "plt.colorbar()\n",
    "\n",
    "plt.figure()\n",
    "plt.imshow(np.abs(fft2_img_shift_J), cmap = 'gray') \n",
    "plt.title('Magnitude Spectrum with shift for J')\n",
    "plt.colorbar()\n",
    "plt.show()"
   ]
  },
  {
   "cell_type": "markdown",
   "metadata": {},
   "source": [
    "On observe que pour l'image centrée (J), au centre du spectre il n'y a plus de point blanc au milieu mais il y en a 4:\n",
    "en (248,248), (264,248), (264,264) et (248,264). Le profil est toujours symétrique par rapport aux axes x, y, la 1ère et la 2ème bissectrice."
   ]
  },
  {
   "cell_type": "markdown",
   "metadata": {},
   "source": [
    "----\n",
    "### Exercice 1 <a name=\"exo1\"></a> [(&#8593;)](#content)\n",
    "1. Que représente le point clair au centre de la représentation de la transformée de Fourier 2D ? (lorsqu'il existe)\n",
    "2. Vérifiez que l'application successive de 2 transformations de Fourier 1D successives (verticale puis horizontale par exemple) est équivalente à l'application d'une transformation 2D directement (voir indications ci-dessous).\n",
    "3. Refaites le même travail pour différentes images et commentez les résultats obtenus. \n",
    "4. Construisez une image constituée de rayures noires et blanches, et étudiez sa transformée de Fourier. Faites varier la taille des rayures.\n",
    "5. Construisez une matrice de taille $512 \\times 512$ ne contenant que des `zeros` (utiliser la fonction zeros) sauf en 2 points symétriques par rapport au centre de la matrice où on affectera la valeur 1. Considérer cette matrice comme la transformée de Fourier d'une image et étudier sa transformée inverse par `ifft2` (Attention : penser à `ifftshift` !). Observez et commentez."
   ]
  },
  {
   "cell_type": "markdown",
   "metadata": {},
   "source": [
    "#### Question 1\n",
    "\n",
    "La fréquence en (0,0) correspond à la moyenne du signal, c'est à dire la moyenne de valeur des pixels ici"
   ]
  },
  {
   "cell_type": "markdown",
   "metadata": {},
   "source": [
    "_Indication pour la question 2_"
   ]
  },
  {
   "cell_type": "code",
   "execution_count": 12,
   "metadata": {},
   "outputs": [
    {
     "name": "stdout",
     "output_type": "stream",
     "text": [
      "[[0.+0.j 0.+0.j 0.+0.j ... 0.+0.j 0.+0.j 0.+0.j]\n",
      " [0.+0.j 0.+0.j 0.+0.j ... 0.+0.j 0.+0.j 0.+0.j]\n",
      " [0.+0.j 0.+0.j 0.+0.j ... 0.+0.j 0.+0.j 0.+0.j]\n",
      " [0.+0.j 0.+0.j 0.+0.j ... 0.+0.j 0.+0.j 0.+0.j]\n",
      " [0.+0.j 0.+0.j 0.+0.j ... 0.+0.j 0.+0.j 0.+0.j]]\n"
     ]
    }
   ],
   "source": [
    "# Pour utiliser 2 transformées unidimensionnelles successives:\n",
    "J1 = np.fft.fft(I, n=None, axis=-1, norm=None)   # FFT 1D verticale\n",
    "J1 = np.fft.fft(J1, n=None, axis=-2, norm=None)   # FFT 1D horizontale\n",
    "                \n",
    "# En utilisant 1 transformée bidimensionnelle directement:\n",
    "\n",
    "J2 = np.fft.fft2(I)\n",
    "\n",
    "# On comparera les valeurs obtenues en regardant par exemple la différence J1[0:5]-J2[0:5]\n",
    "\n",
    "print(J1[0:5]-J2[0:5])"
   ]
  },
  {
   "cell_type": "code",
   "execution_count": 14,
   "metadata": {},
   "outputs": [
    {
     "data": {
      "application/vnd.jupyter.widget-view+json": {
       "model_id": "3b66874f5fdc4db7a6aa6c2149fd458e",
       "version_major": 2,
       "version_minor": 0
      },
      "text/plain": [
       "Canvas(toolbar=Toolbar(toolitems=[('Home', 'Reset original view', 'home', 'home'), ('Back', 'Back to previous …"
      ]
     },
     "metadata": {},
     "output_type": "display_data"
    },
    {
     "name": "stdout",
     "output_type": "stream",
     "text": [
      "Le maximum de la différence vaut: 0j\n",
      "Le minimum de la différence vaut: 0j\n"
     ]
    }
   ],
   "source": [
    "#Question 3\n",
    "\n",
    "filename='img/parrot.png'\n",
    "I=mpimg.imread(filename) \n",
    "\n",
    "plt.figure()\n",
    "plt.imshow(I)\n",
    "plt.show()\n",
    "\n",
    "# Pour utiliser 2 transformées unidimensionnelles successives:\n",
    "J1 = np.fft.fft(I, n=None, axis=-1, norm=None)   # FFT 1D verticale\n",
    "J1 = np.fft.fft(J1, n=None, axis=-2, norm=None)   # FFT 1D horizontale\n",
    "                \n",
    "# En utilisant 1 transformée bidimensionnelle directement:\n",
    "\n",
    "J2 = np.fft.fft2(I)\n",
    "\n",
    "print(\"Le maximum de la différence vaut:\" + \" \" + str(np.max(J1[0:5]-J2[0:5])))\n",
    "print(\"Le minimum de la différence vaut:\" + \" \" + str(np.min(J1[0:5]-J2[0:5])))"
   ]
  },
  {
   "cell_type": "markdown",
   "metadata": {},
   "source": [
    "_Indication pour la question 4_"
   ]
  },
  {
   "cell_type": "code",
   "execution_count": 15,
   "metadata": {
    "scrolled": false
   },
   "outputs": [
    {
     "data": {
      "application/vnd.jupyter.widget-view+json": {
       "model_id": "71c48cefa2a1401e9dbed60cf177a009",
       "version_major": 2,
       "version_minor": 0
      },
      "text/plain": [
       "Canvas(toolbar=Toolbar(toolitems=[('Home', 'Reset original view', 'home', 'home'), ('Back', 'Back to previous …"
      ]
     },
     "metadata": {},
     "output_type": "display_data"
    },
    {
     "data": {
      "application/vnd.jupyter.widget-view+json": {
       "model_id": "12935d690d5b4105bbec5e701c4e65b8",
       "version_major": 2,
       "version_minor": 0
      },
      "text/plain": [
       "Canvas(toolbar=Toolbar(toolitems=[('Home', 'Reset original view', 'home', 'home'), ('Back', 'Back to previous …"
      ]
     },
     "metadata": {},
     "output_type": "display_data"
    },
    {
     "data": {
      "text/plain": [
       "<matplotlib.image.AxesImage at 0x2222a987460>"
      ]
     },
     "execution_count": 15,
     "metadata": {},
     "output_type": "execute_result"
    }
   ],
   "source": [
    "# Indication pour la question 4 et construire des rayures verticales de largeur 16 :\n",
    "A = np.concatenate((np.ones([512,16]), np.zeros([512,16])), axis=1)\n",
    "I = np.tile(A,(1,16))\n",
    "\n",
    "fft2_img= np.fft.fft2(I)\n",
    "fft2_img_shift = np.fft.fftshift(fft2_img)\n",
    "\n",
    "plt.figure()\n",
    "plt.imshow(I, cmap = 'gray')\n",
    "plt.colorbar()\n",
    "\n",
    "plt.figure()\n",
    "plt.imshow(np.abs(fft2_img_shift), cmap = 'gray')"
   ]
  },
  {
   "cell_type": "code",
   "execution_count": 16,
   "metadata": {},
   "outputs": [
    {
     "data": {
      "application/vnd.jupyter.widget-view+json": {
       "model_id": "7206398c330d4d12902a016fe51e6f51",
       "version_major": 2,
       "version_minor": 0
      },
      "text/plain": [
       "Canvas(toolbar=Toolbar(toolitems=[('Home', 'Reset original view', 'home', 'home'), ('Back', 'Back to previous …"
      ]
     },
     "metadata": {},
     "output_type": "display_data"
    },
    {
     "data": {
      "application/vnd.jupyter.widget-view+json": {
       "model_id": "b16886423632409b8d06446170762684",
       "version_major": 2,
       "version_minor": 0
      },
      "text/plain": [
       "Canvas(toolbar=Toolbar(toolitems=[('Home', 'Reset original view', 'home', 'home'), ('Back', 'Back to previous …"
      ]
     },
     "metadata": {},
     "output_type": "display_data"
    },
    {
     "data": {
      "text/plain": [
       "<matplotlib.image.AxesImage at 0x2222ce2d0d0>"
      ]
     },
     "execution_count": 16,
     "metadata": {},
     "output_type": "execute_result"
    }
   ],
   "source": [
    "# Indication pour la question 4 et construire des rayures verticales de largeur 128 :\n",
    "A = np.concatenate((np.ones([512,128]), np.zeros([512,128])), axis=1)\n",
    "I = np.tile(A,(1,2))\n",
    "\n",
    "fft2_img= np.fft.fft2(I)\n",
    "fft2_img_shift = np.fft.fftshift(fft2_img)\n",
    "\n",
    "plt.figure()\n",
    "plt.imshow(I, cmap = 'gray')\n",
    "plt.colorbar()\n",
    "\n",
    "plt.figure()\n",
    "plt.imshow(np.abs(fft2_img_shift), cmap = 'gray')"
   ]
  },
  {
   "cell_type": "code",
   "execution_count": 17,
   "metadata": {},
   "outputs": [
    {
     "data": {
      "application/vnd.jupyter.widget-view+json": {
       "model_id": "20cad5e56fe54994a0eb49c60bec5649",
       "version_major": 2,
       "version_minor": 0
      },
      "text/plain": [
       "Canvas(toolbar=Toolbar(toolitems=[('Home', 'Reset original view', 'home', 'home'), ('Back', 'Back to previous …"
      ]
     },
     "metadata": {},
     "output_type": "display_data"
    },
    {
     "data": {
      "application/vnd.jupyter.widget-view+json": {
       "model_id": "75959d9b3ca14efcbd4af1974a439a09",
       "version_major": 2,
       "version_minor": 0
      },
      "text/plain": [
       "Canvas(toolbar=Toolbar(toolitems=[('Home', 'Reset original view', 'home', 'home'), ('Back', 'Back to previous …"
      ]
     },
     "metadata": {},
     "output_type": "display_data"
    },
    {
     "data": {
      "text/plain": [
       "array([[1., 1., 0., 0.],\n",
       "       [1., 1., 0., 0.],\n",
       "       [1., 1., 0., 0.],\n",
       "       ...,\n",
       "       [1., 1., 0., 0.],\n",
       "       [1., 1., 0., 0.],\n",
       "       [1., 1., 0., 0.]])"
      ]
     },
     "execution_count": 17,
     "metadata": {},
     "output_type": "execute_result"
    }
   ],
   "source": [
    "A = np.concatenate((np.ones([512,2]), np.zeros([512,2])), axis=1)\n",
    "I = np.tile(A,(1,128))\n",
    "\n",
    "fft2_img= np.fft.fft2(I)\n",
    "fft2_img_shift = np.fft.fftshift(fft2_img)\n",
    "\n",
    "plt.figure()\n",
    "plt.imshow(I, cmap = 'gray')\n",
    "plt.colorbar()\n",
    "\n",
    "plt.figure()\n",
    "plt.imshow(np.abs(fft2_img_shift), cmap = 'gray')\n",
    "A"
   ]
  },
  {
   "cell_type": "markdown",
   "metadata": {},
   "source": [
    "On remarque que l'étendue des valeurs du spectre augmente à mesure que la largeur des bandes diminuent"
   ]
  },
  {
   "cell_type": "markdown",
   "metadata": {},
   "source": [
    "_Indication pour la question 5 : le centre de fréquence spatiale (0, 0) est en (256, 256)._"
   ]
  },
  {
   "cell_type": "code",
   "execution_count": 25,
   "metadata": {},
   "outputs": [
    {
     "name": "stdout",
     "output_type": "stream",
     "text": [
      "207 8\n"
     ]
    },
    {
     "data": {
      "application/vnd.jupyter.widget-view+json": {
       "model_id": "9bef3ca1d24f4a9ea6e11746befc5342",
       "version_major": 2,
       "version_minor": 0
      },
      "text/plain": [
       "Canvas(toolbar=Toolbar(toolitems=[('Home', 'Reset original view', 'home', 'home'), ('Back', 'Back to previous …"
      ]
     },
     "metadata": {},
     "output_type": "display_data"
    },
    {
     "data": {
      "text/plain": [
       "<matplotlib.image.AxesImage at 0x2223325c250>"
      ]
     },
     "execution_count": 25,
     "metadata": {},
     "output_type": "execute_result"
    }
   ],
   "source": [
    "#Question 5\n",
    "import random\n",
    "\n",
    "(i,j) = (random.randint(0,256), random.randint(0,256))\n",
    "\n",
    "M = np.zeros((512,512))\n",
    "\n",
    "M[256 + i][256 + j] = 1\n",
    "M[256 - i][256 - j] = 1\n",
    "\n",
    "print(i,j)\n",
    "plt.figure()\n",
    "plt.imshow(M, cmap = 'gray')"
   ]
  },
  {
   "cell_type": "code",
   "execution_count": 26,
   "metadata": {},
   "outputs": [
    {
     "data": {
      "application/vnd.jupyter.widget-view+json": {
       "model_id": "abb0cba68da14abeb2c8c704d0d1f651",
       "version_major": 2,
       "version_minor": 0
      },
      "text/plain": [
       "Canvas(toolbar=Toolbar(toolitems=[('Home', 'Reset original view', 'home', 'home'), ('Back', 'Back to previous …"
      ]
     },
     "metadata": {},
     "output_type": "display_data"
    },
    {
     "data": {
      "text/plain": [
       "<matplotlib.image.AxesImage at 0x222332b3640>"
      ]
     },
     "execution_count": 26,
     "metadata": {},
     "output_type": "execute_result"
    }
   ],
   "source": [
    "img = np.fft.ifft2(M)\n",
    "\n",
    "plt.figure()\n",
    "plt.imshow(np.abs(img), cmap = 'gray')"
   ]
  },
  {
   "cell_type": "markdown",
   "metadata": {},
   "source": [
    "----\n",
    "### Exercice 2 <a name=\"exo2\"></a> [(&#8593;)](#content)\n",
    "On définit 2 masques h1 et h2 dans le domaine de Fourier :"
   ]
  },
  {
   "cell_type": "code",
   "execution_count": 28,
   "metadata": {},
   "outputs": [],
   "source": [
    "h1=np.zeros([512,512])\n",
    "delta=32;\n",
    "h1[256-delta:256+delta , 256-delta:256+delta]=1;\n",
    "h2=1-h1;"
   ]
  },
  {
   "cell_type": "markdown",
   "metadata": {},
   "source": [
    "1. Reconstruire les images J1 et J2 filtrées comme transformées de Fourier inverses de `h1*TF_I` et `h2*TF_I`. \n",
    "\n",
    "2. Quel type d'opération a-t-on effectué ? \n",
    "\n",
    "3. Observer le résultat sur l'image `mandrill` par exemple (sélectionner le canal [:,:,0], l'image RGB contenant 3 canaux de couleur) et commenter."
   ]
  },
  {
   "cell_type": "code",
   "execution_count": 32,
   "metadata": {},
   "outputs": [
    {
     "data": {
      "application/vnd.jupyter.widget-view+json": {
       "model_id": "26900b3ff0904d56b25f0681fc11eb4f",
       "version_major": 2,
       "version_minor": 0
      },
      "text/plain": [
       "Canvas(toolbar=Toolbar(toolitems=[('Home', 'Reset original view', 'home', 'home'), ('Back', 'Back to previous …"
      ]
     },
     "metadata": {},
     "output_type": "display_data"
    },
    {
     "data": {
      "text/plain": [
       "Text(0.5, 1.0, 'Spectrogramme du filtre H1')"
      ]
     },
     "execution_count": 32,
     "metadata": {},
     "output_type": "execute_result"
    }
   ],
   "source": [
    "plt.figure()\n",
    "plt.imshow(h1, cmap='gray')\n",
    "plt.title('Spectrogramme du filtre H1')"
   ]
  },
  {
   "cell_type": "markdown",
   "metadata": {},
   "source": [
    "On observe que ce filtre (H1) ne laisse passer que les fréquences basse"
   ]
  },
  {
   "cell_type": "code",
   "execution_count": 22,
   "metadata": {},
   "outputs": [
    {
     "data": {
      "application/vnd.jupyter.widget-view+json": {
       "model_id": "6ab5dbd301fc497da1ca93b1c746d0d6",
       "version_major": 2,
       "version_minor": 0
      },
      "text/plain": [
       "Canvas(toolbar=Toolbar(toolitems=[('Home', 'Reset original view', 'home', 'home'), ('Back', 'Back to previous …"
      ]
     },
     "metadata": {},
     "output_type": "display_data"
    },
    {
     "data": {
      "application/vnd.jupyter.widget-view+json": {
       "model_id": "16737cd3b0fb45f99c3d17dc6f5bcd2e",
       "version_major": 2,
       "version_minor": 0
      },
      "text/plain": [
       "Canvas(toolbar=Toolbar(toolitems=[('Home', 'Reset original view', 'home', 'home'), ('Back', 'Back to previous …"
      ]
     },
     "metadata": {},
     "output_type": "display_data"
    },
    {
     "data": {
      "application/vnd.jupyter.widget-view+json": {
       "model_id": "cedbfc8097d446b3a4d0ba8fb20ea69a",
       "version_major": 2,
       "version_minor": 0
      },
      "text/plain": [
       "Canvas(toolbar=Toolbar(toolitems=[('Home', 'Reset original view', 'home', 'home'), ('Back', 'Back to previous …"
      ]
     },
     "metadata": {},
     "output_type": "display_data"
    },
    {
     "data": {
      "text/plain": [
       "Text(0.5, 1.0, 'Image filtré par H2')"
      ]
     },
     "execution_count": 22,
     "metadata": {},
     "output_type": "execute_result"
    }
   ],
   "source": [
    "#Question 1\n",
    "\n",
    "filename='img/mandrill.png'\n",
    "I=mpimg.imread(filename) \n",
    "\n",
    "fft_img = np.fft.fft2(I[:,:,0])\n",
    "mask1 = h1 * fft_img\n",
    "mask2 = h2 * fft_img\n",
    "\n",
    "J1 = np.fft.ifft2(mask1)\n",
    "J2 = np.fft.ifft2(mask2)\n",
    "\n",
    "plt.figure()\n",
    "plt.imshow(I, cmap='gray')\n",
    "plt.title('Image de base')\n",
    "plt.colorbar()\n",
    "\n",
    "plt.figure()\n",
    "plt.imshow(np.abs(J1), cmap='gray')\n",
    "plt.title('Image filtré par H1')\n",
    "\n",
    "plt.figure()\n",
    "plt.imshow(np.abs(J2),cmap = 'gray')\n",
    "plt.title('Image filtré par H2')"
   ]
  },
  {
   "cell_type": "markdown",
   "metadata": {},
   "source": [
    "#### Question 2 et 3\n",
    "\n",
    "Le masque H1 qui permet d'obtenir l'image J1 a l'effet d'un filtre passe-haut sur l'image initiale\n",
    "Le masque H2 qui permet d'obtenir l'image J2 a l'effet d'un filtre passe-bas sur l'image initiale"
   ]
  },
  {
   "cell_type": "markdown",
   "metadata": {},
   "source": [
    "---\n",
    "### Question subsidiaire <a name=\"supplement\"></a> [(&#8593;)](#content)"
   ]
  },
  {
   "cell_type": "markdown",
   "metadata": {},
   "source": [
    "Proposer une version isotrope du filtre passe-bas (passe-haut) ci-dessus. Ceci revient à remplacer le filtre de gabarit carré par un gabarit circulaire de rayon `fc` (la fréquence de coupure)."
   ]
  },
  {
   "cell_type": "markdown",
   "metadata": {},
   "source": [
    "*Votre réponse (commentaire des résultats)*"
   ]
  },
  {
   "cell_type": "code",
   "execution_count": 52,
   "metadata": {},
   "outputs": [
    {
     "data": {
      "application/vnd.jupyter.widget-view+json": {
       "model_id": "151807bf04024722b3b055fc1337bf09",
       "version_major": 2,
       "version_minor": 0
      },
      "text/plain": [
       "Canvas(toolbar=Toolbar(toolitems=[('Home', 'Reset original view', 'home', 'home'), ('Back', 'Back to previous …"
      ]
     },
     "metadata": {},
     "output_type": "display_data"
    },
    {
     "data": {
      "text/plain": [
       "Text(0.5, 1.0, 'Spectre du filtre passe bas isotrope')"
      ]
     },
     "execution_count": 52,
     "metadata": {},
     "output_type": "execute_result"
    }
   ],
   "source": [
    "h1 = np.zeros((512,512))\n",
    "fc = 128\n",
    "\n",
    "for i in range(len(h1)):\n",
    "    for j in range(len(h1)):\n",
    "        if (i-256)**2 + (j-256)**2<=fc:   #equation du cercle\n",
    "            h1[i][j]=1\n",
    "        else:\n",
    "            h1[i][j]=0\n",
    "    \n",
    "h2 = 1 - h1\n",
    "\n",
    "plt.figure()\n",
    "plt.imshow(h1,cmap='gray')\n",
    "plt.title('Spectre du filtre passe bas isotrope')"
   ]
  },
  {
   "cell_type": "code",
   "execution_count": 50,
   "metadata": {},
   "outputs": [
    {
     "data": {
      "application/vnd.jupyter.widget-view+json": {
       "model_id": "e5d95209885c49c6a95377861f71895f",
       "version_major": 2,
       "version_minor": 0
      },
      "text/plain": [
       "Canvas(toolbar=Toolbar(toolitems=[('Home', 'Reset original view', 'home', 'home'), ('Back', 'Back to previous …"
      ]
     },
     "metadata": {},
     "output_type": "display_data"
    },
    {
     "data": {
      "application/vnd.jupyter.widget-view+json": {
       "model_id": "ace51ac14a904473aa1d8d868986c483",
       "version_major": 2,
       "version_minor": 0
      },
      "text/plain": [
       "Canvas(toolbar=Toolbar(toolitems=[('Home', 'Reset original view', 'home', 'home'), ('Back', 'Back to previous …"
      ]
     },
     "metadata": {},
     "output_type": "display_data"
    },
    {
     "data": {
      "application/vnd.jupyter.widget-view+json": {
       "model_id": "5451f5a07098457f8e43a05fdb4756e1",
       "version_major": 2,
       "version_minor": 0
      },
      "text/plain": [
       "Canvas(toolbar=Toolbar(toolitems=[('Home', 'Reset original view', 'home', 'home'), ('Back', 'Back to previous …"
      ]
     },
     "metadata": {},
     "output_type": "display_data"
    },
    {
     "data": {
      "text/plain": [
       "<matplotlib.image.AxesImage at 0x2224d4eddc0>"
      ]
     },
     "execution_count": 50,
     "metadata": {},
     "output_type": "execute_result"
    }
   ],
   "source": [
    "# code associé\n",
    "    \n",
    "filename='img/mandrill.png'\n",
    "I=mpimg.imread(filename) \n",
    "\n",
    "fft_img = np.fft.fft2(I[:,:,0])\n",
    "mask1 = h1 * fft_img\n",
    "mask2 = h2 * fft_img\n",
    "\n",
    "J1 = np.fft.ifft2(mask1)\n",
    "J2 = np.fft.ifft2(mask2)\n",
    "\n",
    "plt.figure()\n",
    "plt.imshow(I, cmap='gray')\n",
    "plt.colorbar()\n",
    "\n",
    "plt.figure()\n",
    "plt.imshow(np.abs(J1), cmap='gray')\n",
    "\n",
    "plt.figure()\n",
    "plt.imshow(np.abs(J2),cmap = 'gray')"
   ]
  },
  {
   "cell_type": "code",
   "execution_count": 65,
   "metadata": {},
   "outputs": [
    {
     "data": {
      "application/vnd.jupyter.widget-view+json": {
       "model_id": "52bd520e48da498f8ac229570de5de80",
       "version_major": 2,
       "version_minor": 0
      },
      "text/plain": [
       "Canvas(toolbar=Toolbar(toolitems=[('Home', 'Reset original view', 'home', 'home'), ('Back', 'Back to previous …"
      ]
     },
     "metadata": {},
     "output_type": "display_data"
    },
    {
     "data": {
      "text/plain": [
       "Text(0.5, 1.0, 'Spectre du filtre passe bas isotrope')"
      ]
     },
     "execution_count": 65,
     "metadata": {},
     "output_type": "execute_result"
    }
   ],
   "source": [
    "# Filtre gaussien\n",
    "\n",
    "h1 = np.zeros((512,512))\n",
    "sigma = 32\n",
    "\n",
    "\n",
    "def gauss(x,y):\n",
    "    return(np.exp(-((x-256)**2 + (y-256)**2)/(2 * sigma**2)))\n",
    "\n",
    "for i in range(len(h1)):\n",
    "    for j in range(len(h1)):\n",
    "        h1[i][j] = gauss(i,j)\n",
    "    \n",
    "h2 = 1 - h1\n",
    "\n",
    "plt.figure()\n",
    "plt.imshow(h1,cmap='gray')\n",
    "plt.title('Spectre du filtre passe bas isotrope')"
   ]
  },
  {
   "cell_type": "code",
   "execution_count": 66,
   "metadata": {},
   "outputs": [
    {
     "data": {
      "application/vnd.jupyter.widget-view+json": {
       "model_id": "ecbfcac2c93f46d192616fa3299510b2",
       "version_major": 2,
       "version_minor": 0
      },
      "text/plain": [
       "Canvas(toolbar=Toolbar(toolitems=[('Home', 'Reset original view', 'home', 'home'), ('Back', 'Back to previous …"
      ]
     },
     "metadata": {},
     "output_type": "display_data"
    },
    {
     "data": {
      "application/vnd.jupyter.widget-view+json": {
       "model_id": "ca679792e3da45118817a229dc08c118",
       "version_major": 2,
       "version_minor": 0
      },
      "text/plain": [
       "Canvas(toolbar=Toolbar(toolitems=[('Home', 'Reset original view', 'home', 'home'), ('Back', 'Back to previous …"
      ]
     },
     "metadata": {},
     "output_type": "display_data"
    },
    {
     "data": {
      "application/vnd.jupyter.widget-view+json": {
       "model_id": "cd95007385824cf893998711eae2ad23",
       "version_major": 2,
       "version_minor": 0
      },
      "text/plain": [
       "Canvas(toolbar=Toolbar(toolitems=[('Home', 'Reset original view', 'home', 'home'), ('Back', 'Back to previous …"
      ]
     },
     "metadata": {},
     "output_type": "display_data"
    },
    {
     "data": {
      "text/plain": [
       "<matplotlib.image.AxesImage at 0x22251b104f0>"
      ]
     },
     "execution_count": 66,
     "metadata": {},
     "output_type": "execute_result"
    }
   ],
   "source": [
    "# code associé\n",
    "    \n",
    "filename='img/mandrill.png'\n",
    "I=mpimg.imread(filename) \n",
    "\n",
    "fft_img = np.fft.fft2(I[:,:,0])\n",
    "mask1 = h1 * fft_img\n",
    "mask2 = h2 * fft_img\n",
    "\n",
    "J1 = np.fft.ifft2(mask1)\n",
    "J2 = np.fft.ifft2(mask2)\n",
    "\n",
    "plt.figure()\n",
    "plt.imshow(I, cmap='gray')\n",
    "plt.colorbar()\n",
    "\n",
    "plt.figure()\n",
    "plt.imshow(np.abs(J1), cmap='gray')\n",
    "\n",
    "plt.figure()\n",
    "plt.imshow(np.abs(J2),cmap = 'gray')"
   ]
  },
  {
   "cell_type": "code",
   "execution_count": null,
   "metadata": {},
   "outputs": [],
   "source": []
  },
  {
   "cell_type": "code",
   "execution_count": null,
   "metadata": {},
   "outputs": [],
   "source": []
  }
 ],
 "metadata": {
  "kernelspec": {
   "display_name": "Python 3",
   "language": "python",
   "name": "python3"
  },
  "language_info": {
   "codemirror_mode": {
    "name": "ipython",
    "version": 3
   },
   "file_extension": ".py",
   "mimetype": "text/x-python",
   "name": "python",
   "nbconvert_exporter": "python",
   "pygments_lexer": "ipython3",
   "version": "3.8.5"
  },
  "varInspector": {
   "cols": {
    "lenName": 16,
    "lenType": 16,
    "lenVar": 40
   },
   "kernels_config": {
    "python": {
     "delete_cmd_postfix": "",
     "delete_cmd_prefix": "del ",
     "library": "var_list.py",
     "varRefreshCmd": "print(var_dic_list())"
    },
    "r": {
     "delete_cmd_postfix": ") ",
     "delete_cmd_prefix": "rm(",
     "library": "var_list.r",
     "varRefreshCmd": "cat(var_dic_list()) "
    }
   },
   "types_to_exclude": [
    "module",
    "function",
    "builtin_function_or_method",
    "instance",
    "_Feature"
   ],
   "window_display": false
  }
 },
 "nbformat": 4,
 "nbformat_minor": 4
}
